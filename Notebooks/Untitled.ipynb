{
 "cells": [
  {
   "cell_type": "code",
   "execution_count": 1,
   "metadata": {},
   "outputs": [],
   "source": [
    "# from networkx import karate_club_graph,to_numpy_matrix\n",
    "import matplotlib.pyplot as plt\n",
    "import networkx as nx"
   ]
  },
  {
   "cell_type": "code",
   "execution_count": null,
   "metadata": {},
   "outputs": [],
   "source": [
    "zkc = karate_club_graph()\n",
    "order = list(zkc.nodes())\n"
   ]
  },
  {
   "cell_type": "code",
   "execution_count": null,
   "metadata": {},
   "outputs": [],
   "source": [
    "A = to_numpy_matrix(zkc, nodelist=order)\n"
   ]
  },
  {
   "cell_type": "code",
   "execution_count": null,
   "metadata": {},
   "outputs": [],
   "source": [
    "A"
   ]
  },
  {
   "cell_type": "code",
   "execution_count": null,
   "metadata": {},
   "outputs": [],
   "source": [
    "nx.draw(zkc, with_labels = True, font_weight = 'bold')\n"
   ]
  },
  {
   "cell_type": "code",
   "execution_count": 4,
   "metadata": {},
   "outputs": [],
   "source": [
    "import numpy as np\n",
    "\n",
    "datapath = '../deepnode/Datasets/karate.graphml'"
   ]
  },
  {
   "cell_type": "code",
   "execution_count": null,
   "metadata": {},
   "outputs": [],
   "source": [
    "g = nx.read_graphml(datapath)\n",
    "\n",
    "plt.figure()\n",
    "nx.draw(g, cmap=plt.get_cmap('jet'),\n",
    "    node_color=np.log(list(nx.get_node_attributes(g, 'membership').values())))\n",
    "plt.show()"
   ]
  },
  {
   "cell_type": "code",
   "execution_count": null,
   "metadata": {},
   "outputs": [],
   "source": [
    "adj = nx.adj_matrix(g)\n"
   ]
  },
  {
   "cell_type": "code",
   "execution_count": null,
   "metadata": {},
   "outputs": [],
   "source": [
    "adj.todense()"
   ]
  },
  {
   "cell_type": "code",
   "execution_count": null,
   "metadata": {},
   "outputs": [],
   "source": []
  },
  {
   "cell_type": "code",
   "execution_count": null,
   "metadata": {},
   "outputs": [],
   "source": [
    "# All datasets\n",
    "\n",
    "import pickle as pk\n",
    "import scipy.sparse as sp\n",
    "import random\n",
    "import networkx as nx\n",
    "import numpy as np"
   ]
  },
  {
   "cell_type": "code",
   "execution_count": 2,
   "metadata": {},
   "outputs": [],
   "source": [
    "class Karate_club(object):\n",
    "    \n",
    "    @staticmethod\n",
    "    def load_data(path = '../deepnode/Datasets/raw_datasets/Karate_club/karate.graphml'):\n",
    "        \n",
    "        # input as a graphml file\n",
    "        graph_ = nx.read_graphml(path)\n",
    "        return graph_\n",
    "    \n",
    "    @staticmethod\n",
    "    def visualize():\n",
    "        graph_d = Karate_club.load_data()\n",
    "        nx.draw(graph_d, cmap=plt.get_cmap('jet'),\n",
    "        node_color=np.log(list(nx.get_node_attributes(graph_d, 'membership').values())))\n",
    "        return plt.show()\n",
    "    \n",
    "    @staticmethod\n",
    "    def adj_matrix():\n",
    "        graph_d = Karate_club.load_data()\n",
    "        adj = nx.adj_matrix(graph_d)\n",
    "        return adj\n",
    "    \n",
    "    @staticmethod\n",
    "    def feature_matrix():\n",
    "        adj_matx = Karate_club.adj_matrix()\n",
    "        feat_x = np.identity(n = adj_matx.shape[0])\n",
    "        return feat_x\n",
    "        \n",
    "    @staticmethod\n",
    "    def graph_preprocessing():\n",
    "        adj_matx = Karate_club.adj_matrix()\n",
    "        adj_tilde = adj_matx + np.identity(n = adj_matx.shape[0], dtype=np.float32)\n",
    "        d_tilde_diag = np.squeeze(np.sum(np.array(adj_tilde), axis=1))\n",
    "        d_tilde_inv_sqrt_diag = np.power(d_tilde_diag, -1/2, dtype=np.float32)\n",
    "        d_tilde_inv_sqrt = np.diag(d_tilde_inv_sqrt_diag)\n",
    "        adj_norm = np.dot(np.dot(d_tilde_inv_sqrt, adj_tilde), d_tilde_inv_sqrt).astype(np.float32)\n",
    "        return adj_norm\n",
    "    \n",
    "    @staticmethod\n",
    "    def labels():\n",
    "        \n",
    "        graph_d = Karate_club.load_data()\n",
    "        memberships = [m - 1 for m in nx.get_node_attributes(graph_d, 'membership').values()]\n",
    "        nb_classes = len(set(memberships))\n",
    "        targets = np.array([memberships], dtype=np.int32).reshape(-1)\n",
    "        one_hot_targets = np.eye(4)[targets]\n",
    "        \n",
    "        return {'total_classes' : nb_classes, 'targets' : targets, 'one_hot' : one_hot_targets}"
   ]
  },
  {
   "cell_type": "code",
   "execution_count": null,
   "metadata": {},
   "outputs": [],
   "source": [
    "data = Karate_club.load_data()\n",
    "\n",
    "memberships = [m - 1 for m in nx.get_node_attributes(data, 'membership').values()]"
   ]
  },
  {
   "cell_type": "code",
   "execution_count": null,
   "metadata": {},
   "outputs": [],
   "source": [
    "memberships"
   ]
  },
  {
   "cell_type": "code",
   "execution_count": 5,
   "metadata": {},
   "outputs": [],
   "source": [
    "ae = Karate_club.labels()"
   ]
  },
  {
   "cell_type": "code",
   "execution_count": 6,
   "metadata": {},
   "outputs": [
    {
     "data": {
      "text/plain": [
       "{'total_classes': 4,\n",
       " 'targets': array([0, 0, 0, 0, 1, 1, 1, 0, 2, 2, 1, 0, 0, 0, 2, 2, 1, 0, 2, 0, 2, 0,\n",
       "        2, 3, 3, 3, 2, 3, 3, 2, 2, 3, 2, 2], dtype=int32),\n",
       " 'one_hot': array([[1., 0., 0., 0.],\n",
       "        [1., 0., 0., 0.],\n",
       "        [1., 0., 0., 0.],\n",
       "        [1., 0., 0., 0.],\n",
       "        [0., 1., 0., 0.],\n",
       "        [0., 1., 0., 0.],\n",
       "        [0., 1., 0., 0.],\n",
       "        [1., 0., 0., 0.],\n",
       "        [0., 0., 1., 0.],\n",
       "        [0., 0., 1., 0.],\n",
       "        [0., 1., 0., 0.],\n",
       "        [1., 0., 0., 0.],\n",
       "        [1., 0., 0., 0.],\n",
       "        [1., 0., 0., 0.],\n",
       "        [0., 0., 1., 0.],\n",
       "        [0., 0., 1., 0.],\n",
       "        [0., 1., 0., 0.],\n",
       "        [1., 0., 0., 0.],\n",
       "        [0., 0., 1., 0.],\n",
       "        [1., 0., 0., 0.],\n",
       "        [0., 0., 1., 0.],\n",
       "        [1., 0., 0., 0.],\n",
       "        [0., 0., 1., 0.],\n",
       "        [0., 0., 0., 1.],\n",
       "        [0., 0., 0., 1.],\n",
       "        [0., 0., 0., 1.],\n",
       "        [0., 0., 1., 0.],\n",
       "        [0., 0., 0., 1.],\n",
       "        [0., 0., 0., 1.],\n",
       "        [0., 0., 1., 0.],\n",
       "        [0., 0., 1., 0.],\n",
       "        [0., 0., 0., 1.],\n",
       "        [0., 0., 1., 0.],\n",
       "        [0., 0., 1., 0.]])}"
      ]
     },
     "execution_count": 6,
     "metadata": {},
     "output_type": "execute_result"
    }
   ],
   "source": [
    "ae"
   ]
  },
  {
   "cell_type": "code",
   "execution_count": null,
   "metadata": {},
   "outputs": [],
   "source": []
  }
 ],
 "metadata": {
  "kernelspec": {
   "display_name": "Python 3",
   "language": "python",
   "name": "python3"
  },
  "language_info": {
   "codemirror_mode": {
    "name": "ipython",
    "version": 3
   },
   "file_extension": ".py",
   "mimetype": "text/x-python",
   "name": "python",
   "nbconvert_exporter": "python",
   "pygments_lexer": "ipython3",
   "version": "3.6.8"
  }
 },
 "nbformat": 4,
 "nbformat_minor": 2
}
